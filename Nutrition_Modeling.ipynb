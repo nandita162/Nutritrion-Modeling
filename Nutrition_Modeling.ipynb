{
  "nbformat": 4,
  "nbformat_minor": 0,
  "metadata": {
    "colab": {
      "name": "Nutrition Modeling.ipynb",
      "provenance": [],
      "authorship_tag": "ABX9TyPio3getfic95GNvykuRlxT",
      "include_colab_link": true
    },
    "kernelspec": {
      "name": "python3",
      "display_name": "Python 3"
    },
    "language_info": {
      "name": "python"
    }
  },
  "cells": [
    {
      "cell_type": "markdown",
      "metadata": {
        "id": "view-in-github",
        "colab_type": "text"
      },
      "source": [
        "<a href=\"https://colab.research.google.com/github/nandita162/Nutritrion-Modeling/blob/main/Nutrition_Modeling.ipynb\" target=\"_parent\"><img src=\"https://colab.research.google.com/assets/colab-badge.svg\" alt=\"Open In Colab\"/></a>"
      ]
    },
    {
      "cell_type": "code",
      "metadata": {
        "id": "0aP-DhhYU1P5",
        "colab": {
          "base_uri": "https://localhost:8080/",
          "height": 390
        },
        "outputId": "ab1eb2f8-8b9c-4832-8ffc-8de1f3163792"
      },
      "source": [
        "import pandas as pd \n",
        "from google.colab import drive\n",
        "drive.mount('/content/drive')\n",
        "df = pd.read_excel('/content/drive/My Drive/Colab Notebooks/Nutritional Survey.xlsx')\n",
        "shape=df.shape\n",
        "print(\"Size of dataset:\",shape)\n",
        "df.head()\n"
      ],
      "execution_count": null,
      "outputs": [
        {
          "output_type": "stream",
          "text": [
            "Drive already mounted at /content/drive; to attempt to forcibly remount, call drive.mount(\"/content/drive\", force_remount=True).\n",
            "Size of dataset: (39, 9)\n"
          ],
          "name": "stdout"
        },
        {
          "output_type": "execute_result",
          "data": {
            "text/html": [
              "<div>\n",
              "<style scoped>\n",
              "    .dataframe tbody tr th:only-of-type {\n",
              "        vertical-align: middle;\n",
              "    }\n",
              "\n",
              "    .dataframe tbody tr th {\n",
              "        vertical-align: top;\n",
              "    }\n",
              "\n",
              "    .dataframe thead th {\n",
              "        text-align: right;\n",
              "    }\n",
              "</style>\n",
              "<table border=\"1\" class=\"dataframe\">\n",
              "  <thead>\n",
              "    <tr style=\"text-align: right;\">\n",
              "      <th></th>\n",
              "      <th>Gender</th>\n",
              "      <th>Age</th>\n",
              "      <th>Disease (if any)</th>\n",
              "      <th>Allergic food item (if any)</th>\n",
              "      <th>How is your eating habits?</th>\n",
              "      <th>How many times do you take meal in a day?</th>\n",
              "      <th>Type of Job</th>\n",
              "      <th>How many hours in a day did you usually work?</th>\n",
              "      <th>How often do you exercise?</th>\n",
              "    </tr>\n",
              "  </thead>\n",
              "  <tbody>\n",
              "    <tr>\n",
              "      <th>0</th>\n",
              "      <td>Female</td>\n",
              "      <td>between 20 to 35</td>\n",
              "      <td>no</td>\n",
              "      <td>no</td>\n",
              "      <td>home made food</td>\n",
              "      <td>4</td>\n",
              "      <td>more mental work</td>\n",
              "      <td>less than 4 hours</td>\n",
              "      <td>often</td>\n",
              "    </tr>\n",
              "    <tr>\n",
              "      <th>1</th>\n",
              "      <td>Male</td>\n",
              "      <td>between 20 to 35</td>\n",
              "      <td>no</td>\n",
              "      <td>no</td>\n",
              "      <td>home made food</td>\n",
              "      <td>3</td>\n",
              "      <td>more mental work</td>\n",
              "      <td>between 4 to 8 hours</td>\n",
              "      <td>daily</td>\n",
              "    </tr>\n",
              "    <tr>\n",
              "      <th>2</th>\n",
              "      <td>Female</td>\n",
              "      <td>between 20 to 35</td>\n",
              "      <td>no</td>\n",
              "      <td>no</td>\n",
              "      <td>mix of both</td>\n",
              "      <td>3</td>\n",
              "      <td>mix of both</td>\n",
              "      <td>less than 4 hours</td>\n",
              "      <td>often</td>\n",
              "    </tr>\n",
              "    <tr>\n",
              "      <th>3</th>\n",
              "      <td>Male</td>\n",
              "      <td>between 20 to 35</td>\n",
              "      <td>no</td>\n",
              "      <td>no</td>\n",
              "      <td>mix of both</td>\n",
              "      <td>3</td>\n",
              "      <td>more mental work</td>\n",
              "      <td>more than 8 hours</td>\n",
              "      <td>often</td>\n",
              "    </tr>\n",
              "    <tr>\n",
              "      <th>4</th>\n",
              "      <td>Female</td>\n",
              "      <td>between 20 to 35</td>\n",
              "      <td>Anxiety</td>\n",
              "      <td>no</td>\n",
              "      <td>mix of both</td>\n",
              "      <td>2</td>\n",
              "      <td>mix of both</td>\n",
              "      <td>more than 8 hours</td>\n",
              "      <td>not at all</td>\n",
              "    </tr>\n",
              "  </tbody>\n",
              "</table>\n",
              "</div>"
            ],
            "text/plain": [
              "   Gender  ... How often do you exercise?\n",
              "0  Female  ...                      often\n",
              "1    Male  ...                      daily\n",
              "2  Female  ...                      often\n",
              "3    Male  ...                      often\n",
              "4  Female  ...                 not at all\n",
              "\n",
              "[5 rows x 9 columns]"
            ]
          },
          "metadata": {
            "tags": []
          },
          "execution_count": 5
        }
      ]
    },
    {
      "cell_type": "markdown",
      "metadata": {
        "id": "fMPTJDSFg629"
      },
      "source": [
        "PCA for Feature Extraction"
      ]
    },
    {
      "cell_type": "code",
      "metadata": {
        "colab": {
          "base_uri": "https://localhost:8080/",
          "height": 35
        },
        "id": "3plvFPlasADN",
        "outputId": "e808d8ad-007b-4707-f18d-b4bec63e8cc9"
      },
      "source": [
        "'''from sklearn.decomposition import PCA\n",
        "pca=PCA(9)\n",
        "pca = PCA(n_components=2)\n",
        "#print(pca.components_)'''\n"
      ],
      "execution_count": null,
      "outputs": [
        {
          "output_type": "execute_result",
          "data": {
            "application/vnd.google.colaboratory.intrinsic+json": {
              "type": "string"
            },
            "text/plain": [
              "'from sklearn.decomposition import PCA\\npca=PCA(9)\\npca = PCA(n_components=2)\\n#print(pca.components_)'"
            ]
          },
          "metadata": {
            "tags": []
          },
          "execution_count": 24
        }
      ]
    },
    {
      "cell_type": "code",
      "metadata": {
        "id": "bp5h-LjysYkt"
      },
      "source": [
        "#print(pca.explained_variance_)"
      ],
      "execution_count": null,
      "outputs": []
    },
    {
      "cell_type": "code",
      "metadata": {
        "id": "pqSMsm4HktPV"
      },
      "source": [
        "'''from sklearn.decomposition import PCA\n",
        "import matplotlib.pyplot as plt\n",
        "pca=PCA(9)\n",
        "pca.fit(df)\n",
        "Z=pca.transform(X)\n",
        "plt.axis('equal')\n",
        "plt.scatter(Z[:,0], Z[:,1]);'''"
      ],
      "execution_count": null,
      "outputs": []
    },
    {
      "cell_type": "code",
      "metadata": {
        "id": "l57sYfH9svPn"
      },
      "source": [
        "'''import numpy as np\n",
        "import matplotlib.pyplot as plt\n",
        "pca=PCA()\n",
        "pca.fit(X)\n",
        "v=pca.explained_variance_\n",
        "print(v)\n",
        "plt.plot(np.arange(0,9), np.cumsum(v));'''"
      ],
      "execution_count": null,
      "outputs": []
    },
    {
      "cell_type": "markdown",
      "metadata": {
        "id": "EpTsxXV-G2W9"
      },
      "source": [
        "Encoding of categorical data"
      ]
    },
    {
      "cell_type": "code",
      "metadata": {
        "colab": {
          "base_uri": "https://localhost:8080/",
          "height": 283
        },
        "id": "_T7RuEiX6Fm9",
        "outputId": "30dab017-68e0-42a0-93c4-c4b60ed46334"
      },
      "source": [
        "import numpy as np\n",
        "import matplotlib.pyplot as plt\n",
        "y = np.array([i for i in range(1,5,1)])\n",
        "plt.plot(y,cost)"
      ],
      "execution_count": null,
      "outputs": [
        {
          "output_type": "execute_result",
          "data": {
            "text/plain": [
              "[<matplotlib.lines.Line2D at 0x7faec47cc2d0>]"
            ]
          },
          "metadata": {
            "tags": []
          },
          "execution_count": 12
        },
        {
          "output_type": "display_data",
          "data": {
            "image/png": "[encoded data removed]",
            "text/plain": [
              "<Figure size 432x288 with 1 Axes>"
            ]
          },
          "metadata": {
            "tags": [],
            "needs_background": "light"
          }
        }
      ]
    },
    {
      "cell_type": "code",
      "metadata": {
        "colab": {
          "base_uri": "https://localhost:8080/"
        },
        "id": "8KeVbe1b0nn6",
        "outputId": "d29f4edc-bd36-4903-87c6-7e8b97ca2777"
      },
      "source": [
        "pip install kmodes"
      ],
      "execution_count": null,
      "outputs": [
        {
          "output_type": "stream",
          "text": [
            "Collecting kmodes\n",
            "  Downloading https://files.pythonhosted.org/packages/9b/34/fffc601aa4d44b94e945a7cc72f477e09dffa7dce888898f2ffd9f4e343e/kmodes-0.11.0-py2.py3-none-any.whl\n",
            "Requirement already satisfied: scikit-learn>=0.22.0 in /usr/local/lib/python3.7/dist-packages (from kmodes) (0.22.2.post1)\n",
            "Requirement already satisfied: joblib>=0.11 in /usr/local/lib/python3.7/dist-packages (from kmodes) (1.0.1)\n",
            "Requirement already satisfied: numpy>=1.10.4 in /usr/local/lib/python3.7/dist-packages (from kmodes) (1.19.5)\n",
            "Requirement already satisfied: scipy>=0.13.3 in /usr/local/lib/python3.7/dist-packages (from kmodes) (1.4.1)\n",
            "Installing collected packages: kmodes\n",
            "Successfully installed kmodes-0.11.0\n"
          ],
          "name": "stdout"
        }
      ]
    },
    {
      "cell_type": "code",
      "metadata": {
        "colab": {
          "base_uri": "https://localhost:8080/",
          "height": 825
        },
        "id": "aqjaR2WyxtMd",
        "outputId": "01420608-5178-4891-d16f-217c1141a36e"
      },
      "source": [
        "import pandas as pd\n",
        "import seaborn as sns\n",
        "from google.colab import drive\n",
        "drive.mount('/content/drive')\n",
        "df = pd.read_excel('/content/drive/My Drive/Colab Notebooks/Nutritional Survey.xlsx')\n",
        "from kmodes.kmodes import KModes\n",
        "km_huang = KModes(n_clusters=2, init = \"Huang\", n_init = 1, verbose=1)\n",
        "fitClusters_huang = km_huang.fit_predict(df)\n",
        "fitClusters_huang # Predicted clusters\n",
        "\n",
        "# Choosing K by comparing Cost against each K\n",
        "cost = []\n",
        "for num_clusters in list(range(1,5)):\n",
        "    kmode = KModes(n_clusters=num_clusters, init = \"Huang\", n_init = 1, verbose=1)\n",
        "    kmode.fit_predict(df)\n",
        "    cost.append(kmode.cost_)\n",
        "\n",
        "# Combining the predicted clusters with the original DF\n",
        "df_copy=df.copy()\n",
        "df = df_copy.reset_index(drop=True)\n",
        "clustersDf = pd.DataFrame(fitClusters_huang)\n",
        "clustersDf.columns = ['cluster_predicted']\n",
        "combinedDf = pd.concat([df, clustersDf], axis = 1).reset_index(drop=True)\n",
        "#combinedDf = combinedDf.drop(['index', 'level_1'], axis = 1)\n",
        "combinedDf.head()\n",
        "\n"
      ],
      "execution_count": null,
      "outputs": [
        {
          "output_type": "stream",
          "text": [
            "Drive already mounted at /content/drive; to attempt to forcibly remount, call drive.mount(\"/content/drive\", force_remount=True).\n",
            "Init: initializing centroids\n",
            "Init: initializing clusters\n",
            "Starting iterations...\n",
            "Run 1, iteration: 1/100, moves: 3, cost: 119.0\n",
            "Init: initializing centroids\n",
            "Init: initializing clusters\n",
            "Starting iterations...\n",
            "Run 1, iteration: 1/100, moves: 0, cost: 144.0\n",
            "Init: initializing centroids\n",
            "Init: initializing clusters\n",
            "Starting iterations...\n",
            "Run 1, iteration: 1/100, moves: 9, cost: 124.0\n",
            "Run 1, iteration: 2/100, moves: 1, cost: 124.0\n",
            "Init: initializing centroids\n",
            "Init: initializing clusters\n",
            "Starting iterations...\n",
            "Run 1, iteration: 1/100, moves: 8, cost: 110.0\n",
            "Run 1, iteration: 2/100, moves: 2, cost: 110.0\n",
            "Init: initializing centroids\n",
            "Init: initializing clusters\n",
            "Starting iterations...\n",
            "Run 1, iteration: 1/100, moves: 9, cost: 96.0\n",
            "Run 1, iteration: 2/100, moves: 7, cost: 91.0\n",
            "Run 1, iteration: 3/100, moves: 0, cost: 91.0\n"
          ],
          "name": "stdout"
        },
        {
          "output_type": "execute_result",
          "data": {
            "text/html": [
              "<div>\n",
              "<style scoped>\n",
              "    .dataframe tbody tr th:only-of-type {\n",
              "        vertical-align: middle;\n",
              "    }\n",
              "\n",
              "    .dataframe tbody tr th {\n",
              "        vertical-align: top;\n",
              "    }\n",
              "\n",
              "    .dataframe thead th {\n",
              "        text-align: right;\n",
              "    }\n",
              "</style>\n",
              "<table border=\"1\" class=\"dataframe\">\n",
              "  <thead>\n",
              "    <tr style=\"text-align: right;\">\n",
              "      <th></th>\n",
              "      <th>Gender</th>\n",
              "      <th>Age</th>\n",
              "      <th>Disease (if any)</th>\n",
              "      <th>Allergic food item (if any)</th>\n",
              "      <th>How is your eating habits?</th>\n",
              "      <th>How many times do you take meal in a day?</th>\n",
              "      <th>Type of Job</th>\n",
              "      <th>How many hours in a day did you usually work?</th>\n",
              "      <th>How often do you exercise?</th>\n",
              "      <th>cluster_predicted</th>\n",
              "    </tr>\n",
              "  </thead>\n",
              "  <tbody>\n",
              "    <tr>\n",
              "      <th>0</th>\n",
              "      <td>Female</td>\n",
              "      <td>between 20 to 35</td>\n",
              "      <td>no</td>\n",
              "      <td>no</td>\n",
              "      <td>home made food</td>\n",
              "      <td>4</td>\n",
              "      <td>more mental work</td>\n",
              "      <td>less than 4 hours</td>\n",
              "      <td>often</td>\n",
              "      <td>1</td>\n",
              "    </tr>\n",
              "    <tr>\n",
              "      <th>1</th>\n",
              "      <td>Male</td>\n",
              "      <td>between 20 to 35</td>\n",
              "      <td>no</td>\n",
              "      <td>no</td>\n",
              "      <td>home made food</td>\n",
              "      <td>3</td>\n",
              "      <td>more mental work</td>\n",
              "      <td>between 4 to 8 hours</td>\n",
              "      <td>daily</td>\n",
              "      <td>0</td>\n",
              "    </tr>\n",
              "    <tr>\n",
              "      <th>2</th>\n",
              "      <td>Female</td>\n",
              "      <td>between 20 to 35</td>\n",
              "      <td>no</td>\n",
              "      <td>no</td>\n",
              "      <td>mix of both</td>\n",
              "      <td>3</td>\n",
              "      <td>mix of both</td>\n",
              "      <td>less than 4 hours</td>\n",
              "      <td>often</td>\n",
              "      <td>1</td>\n",
              "    </tr>\n",
              "    <tr>\n",
              "      <th>3</th>\n",
              "      <td>Male</td>\n",
              "      <td>between 20 to 35</td>\n",
              "      <td>no</td>\n",
              "      <td>no</td>\n",
              "      <td>mix of both</td>\n",
              "      <td>3</td>\n",
              "      <td>more mental work</td>\n",
              "      <td>more than 8 hours</td>\n",
              "      <td>often</td>\n",
              "      <td>0</td>\n",
              "    </tr>\n",
              "    <tr>\n",
              "      <th>4</th>\n",
              "      <td>Female</td>\n",
              "      <td>between 20 to 35</td>\n",
              "      <td>Anxiety</td>\n",
              "      <td>no</td>\n",
              "      <td>mix of both</td>\n",
              "      <td>2</td>\n",
              "      <td>mix of both</td>\n",
              "      <td>more than 8 hours</td>\n",
              "      <td>not at all</td>\n",
              "      <td>0</td>\n",
              "    </tr>\n",
              "  </tbody>\n",
              "</table>\n",
              "</div>"
            ],
            "text/plain": [
              "   Gender              Age   ... How often do you exercise? cluster_predicted\n",
              "0  Female  between 20 to 35  ...                      often                 1\n",
              "1    Male  between 20 to 35  ...                      daily                 0\n",
              "2  Female  between 20 to 35  ...                      often                 1\n",
              "3    Male  between 20 to 35  ...                      often                 0\n",
              "4  Female  between 20 to 35  ...                 not at all                 0\n",
              "\n",
              "[5 rows x 10 columns]"
            ]
          },
          "metadata": {
            "tags": []
          },
          "execution_count": 5
        }
      ]
    }
  ]
}