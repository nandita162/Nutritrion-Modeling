{
  "nbformat": 4,
  "nbformat_minor": 0,
  "metadata": {
    "colab": {
      "name": "Nutrition Modeling.ipynb",
      "provenance": [],
      "authorship_tag": "ABX9TyMkwJyYR2g7KMWZKtKEBZqK",
      "include_colab_link": true
    },
    "kernelspec": {
      "display_name": "Python 3",
      "name": "python3"
    },
    "language_info": {
      "name": "python"
    }
  },
  "cells": [
    {
      "cell_type": "markdown",
      "metadata": {
        "id": "view-in-github",
        "colab_type": "text"
      },
      "source": [
        "<a href=\"https://colab.research.google.com/github/nandita162/Nutritrion-Modeling/blob/main/Nutrition_Modeling.ipynb\" target=\"_parent\"><img src=\"https://colab.research.google.com/assets/colab-badge.svg\" alt=\"Open In Colab\"/></a>"
      ]
    },
    {
      "cell_type": "markdown",
      "metadata": {
        "id": "gTzG7qv-Z9vf"
      },
      "source": [
        "Importing Dataset"
      ]
    },
    {
      "cell_type": "code",
      "metadata": {
        "colab": {
          "base_uri": "https://localhost:8080/",
          "height": 390
        },
        "id": "0aP-DhhYU1P5",
        "outputId": "56dabba1-d65c-40fe-c91c-b40eb03c770c"
      },
      "source": [
        "import pandas as pd \n",
        "from google.colab import drive\n",
        "drive.mount('/content/drive')\n",
        "df = pd.read_excel('/content/drive/My Drive/Colab Notebooks/Nutritional Survey.xlsx')\n",
        "shape=df.shape\n",
        "print(\"Size of dataset:\",shape)\n",
        "df.head()\n"
      ],
      "execution_count": null,
      "outputs": [
        {
          "output_type": "stream",
          "text": [
            "Mounted at /content/drive\n",
            "Size of dataset: (55, 9)\n"
          ],
          "name": "stdout"
        },
        {
          "output_type": "execute_result",
          "data": {
            "text/html": [
              "<div>\n",
              "<style scoped>\n",
              "    .dataframe tbody tr th:only-of-type {\n",
              "        vertical-align: middle;\n",
              "    }\n",
              "\n",
              "    .dataframe tbody tr th {\n",
              "        vertical-align: top;\n",
              "    }\n",
              "\n",
              "    .dataframe thead th {\n",
              "        text-align: right;\n",
              "    }\n",
              "</style>\n",
              "<table border=\"1\" class=\"dataframe\">\n",
              "  <thead>\n",
              "    <tr style=\"text-align: right;\">\n",
              "      <th></th>\n",
              "      <th>Gender</th>\n",
              "      <th>Age</th>\n",
              "      <th>Disease (if any)</th>\n",
              "      <th>Allergic food item (if any)</th>\n",
              "      <th>How is your eating habits?</th>\n",
              "      <th>How many times do you take meal in a day?</th>\n",
              "      <th>Type of Job</th>\n",
              "      <th>How many hours in a day did you usually work?</th>\n",
              "      <th>How often do you exercise?</th>\n",
              "    </tr>\n",
              "  </thead>\n",
              "  <tbody>\n",
              "    <tr>\n",
              "      <th>0</th>\n",
              "      <td>Female</td>\n",
              "      <td>between 20 to 35</td>\n",
              "      <td>no</td>\n",
              "      <td>no</td>\n",
              "      <td>home made food</td>\n",
              "      <td>4</td>\n",
              "      <td>more mental work</td>\n",
              "      <td>less than 4 hours</td>\n",
              "      <td>often</td>\n",
              "    </tr>\n",
              "    <tr>\n",
              "      <th>1</th>\n",
              "      <td>Male</td>\n",
              "      <td>between 20 to 35</td>\n",
              "      <td>no</td>\n",
              "      <td>no</td>\n",
              "      <td>home made food</td>\n",
              "      <td>3</td>\n",
              "      <td>more mental work</td>\n",
              "      <td>between 4 to 8 hours</td>\n",
              "      <td>daily</td>\n",
              "    </tr>\n",
              "    <tr>\n",
              "      <th>2</th>\n",
              "      <td>Female</td>\n",
              "      <td>Female</td>\n",
              "      <td>Female</td>\n",
              "      <td>Female</td>\n",
              "      <td>Female</td>\n",
              "      <td>3</td>\n",
              "      <td>mix of both</td>\n",
              "      <td>less than 4 hours</td>\n",
              "      <td>often</td>\n",
              "    </tr>\n",
              "    <tr>\n",
              "      <th>3</th>\n",
              "      <td>Male</td>\n",
              "      <td>between 20 to 35</td>\n",
              "      <td>no</td>\n",
              "      <td>no</td>\n",
              "      <td>mix of both</td>\n",
              "      <td>3</td>\n",
              "      <td>more mental work</td>\n",
              "      <td>more than 8 hours</td>\n",
              "      <td>often</td>\n",
              "    </tr>\n",
              "    <tr>\n",
              "      <th>4</th>\n",
              "      <td>Female</td>\n",
              "      <td>between 20 to 35</td>\n",
              "      <td>Anxiety</td>\n",
              "      <td>no</td>\n",
              "      <td>mix of both</td>\n",
              "      <td>2</td>\n",
              "      <td>mix of both</td>\n",
              "      <td>more than 8 hours</td>\n",
              "      <td>not at all</td>\n",
              "    </tr>\n",
              "  </tbody>\n",
              "</table>\n",
              "</div>"
            ],
            "text/plain": [
              "   Gender  ... How often do you exercise?\n",
              "0  Female  ...                      often\n",
              "1    Male  ...                      daily\n",
              "2  Female  ...                      often\n",
              "3    Male  ...                      often\n",
              "4  Female  ...                 not at all\n",
              "\n",
              "[5 rows x 9 columns]"
            ]
          },
          "metadata": {
            "tags": []
          },
          "execution_count": 1
        }
      ]
    },
    {
      "cell_type": "markdown",
      "metadata": {
        "id": "5rn_eWYzaJZJ"
      },
      "source": [
        "Installing Kmodes"
      ]
    },
    {
      "cell_type": "code",
      "metadata": {
        "colab": {
          "base_uri": "https://localhost:8080/"
        },
        "id": "8KeVbe1b0nn6",
        "outputId": "d9023ddd-33db-47c8-c759-b63f3099b853"
      },
      "source": [
        "pip install kmodes"
      ],
      "execution_count": null,
      "outputs": [
        {
          "output_type": "stream",
          "text": [
            "Collecting kmodes\n",
            "  Downloading https://files.pythonhosted.org/packages/9b/34/fffc601aa4d44b94e945a7cc72f477e09dffa7dce888898f2ffd9f4e343e/kmodes-0.11.0-py2.py3-none-any.whl\n",
            "Requirement already satisfied: joblib>=0.11 in /usr/local/lib/python3.7/dist-packages (from kmodes) (1.0.1)\n",
            "Requirement already satisfied: numpy>=1.10.4 in /usr/local/lib/python3.7/dist-packages (from kmodes) (1.19.5)\n",
            "Requirement already satisfied: scipy>=0.13.3 in /usr/local/lib/python3.7/dist-packages (from kmodes) (1.4.1)\n",
            "Requirement already satisfied: scikit-learn>=0.22.0 in /usr/local/lib/python3.7/dist-packages (from kmodes) (0.22.2.post1)\n",
            "Installing collected packages: kmodes\n",
            "Successfully installed kmodes-0.11.0\n"
          ],
          "name": "stdout"
        }
      ]
    },
    {
      "cell_type": "markdown",
      "metadata": {
        "id": "-02-vY48a6kk"
      },
      "source": [
        "Data Preparation"
      ]
    },
    {
      "cell_type": "code",
      "metadata": {
        "colab": {
          "base_uri": "https://localhost:8080/"
        },
        "id": "CKMpBRyagEzq",
        "outputId": "010a8040-390a-4543-d644-6a3e7ae4cd73"
      },
      "source": [
        "print (df.info())\n",
        "from sklearn.preprocessing import LabelEncoder\n",
        "le = LabelEncoder()\n",
        "for feat in df:\n",
        "    df[feat] = le.fit_transform(df[feat].astype(str))\n",
        "print (df.info())"
      ],
      "execution_count": null,
      "outputs": [
        {
          "output_type": "stream",
          "text": [
            "<class 'pandas.core.frame.DataFrame'>\n",
            "RangeIndex: 55 entries, 0 to 54\n",
            "Data columns (total 9 columns):\n",
            " #   Column                                         Non-Null Count  Dtype \n",
            "---  ------                                         --------------  ----- \n",
            " 0   Gender                                         55 non-null     object\n",
            " 1   Age                                            55 non-null     object\n",
            " 2   Disease (if any)                               55 non-null     object\n",
            " 3   Allergic food item (if any)                    55 non-null     object\n",
            " 4   How is your eating habits?                     55 non-null     object\n",
            " 5   How many times do you take meal in a day?      55 non-null     int64 \n",
            " 6   Type of Job                                    55 non-null     object\n",
            " 7   How many hours in a day did you usually work?  55 non-null     object\n",
            " 8   How often do you exercise?                     40 non-null     object\n",
            "dtypes: int64(1), object(8)\n",
            "memory usage: 4.0+ KB\n",
            "None\n",
            "<class 'pandas.core.frame.DataFrame'>\n",
            "RangeIndex: 55 entries, 0 to 54\n",
            "Data columns (total 9 columns):\n",
            " #   Column                                         Non-Null Count  Dtype\n",
            "---  ------                                         --------------  -----\n",
            " 0   Gender                                         55 non-null     int64\n",
            " 1   Age                                            55 non-null     int64\n",
            " 2   Disease (if any)                               55 non-null     int64\n",
            " 3   Allergic food item (if any)                    55 non-null     int64\n",
            " 4   How is your eating habits?                     55 non-null     int64\n",
            " 5   How many times do you take meal in a day?      55 non-null     int64\n",
            " 6   Type of Job                                    55 non-null     int64\n",
            " 7   How many hours in a day did you usually work?  55 non-null     int64\n",
            " 8   How often do you exercise?                     55 non-null     int64\n",
            "dtypes: int64(9)\n",
            "memory usage: 4.0 KB\n",
            "None\n"
          ],
          "name": "stdout"
        }
      ]
    },
    {
      "cell_type": "markdown",
      "metadata": {
        "id": "UTsNQKSmsa3v"
      },
      "source": [
        "Kmodes Implementation"
      ]
    },
    {
      "cell_type": "code",
      "metadata": {
        "colab": {
          "base_uri": "https://localhost:8080/",
          "height": 615
        },
        "id": "aqjaR2WyxtMd",
        "outputId": "fe7109f1-9a46-4780-edf8-7edc95a5e07c"
      },
      "source": [
        "from kmodes.kmodes import KModes\n",
        "km_huang = KModes(n_clusters=2, init = \"Huang\", n_init = 1, verbose=1)\n",
        "df = df.reset_index(drop=True)\n",
        "fitClusters_huang = km_huang.fit_predict(df)\n",
        "fitClusters_huang # Predicted clusters\n",
        "\n",
        "# Choosing K by comparing Cost against each K\n",
        "cost = []\n",
        "for num_clusters in list(range(1,5)):\n",
        "    kmode = KModes(n_clusters=num_clusters, init = \"Huang\", n_init = 1, verbose=1)\n",
        "    kmode.fit_predict(df)\n",
        "    cost.append(kmode.cost_)\n",
        "\n",
        "# Combining the predicted clusters with the original DF\n",
        "df_copy=df.copy()\n",
        "df = df_copy.reset_index(drop=True)\n",
        "clustersDf = pd.DataFrame(fitClusters_huang)\n",
        "clustersDf.columns = ['cluster_predicted']\n",
        "combinedDf = pd.concat([df, clustersDf], axis = 1).reset_index(drop=True)\n",
        "#combinedDf = combinedDf.drop(['index', 'level_1'], axis = 1)\n",
        "combinedDf.head()\n",
        "\n"
      ],
      "execution_count": null,
      "outputs": [
        {
          "output_type": "stream",
          "text": [
            "Init: initializing centroids\n",
            "Init: initializing clusters\n",
            "Starting iterations...\n",
            "Run 1, iteration: 1/100, moves: 0, cost: 194.0\n",
            "Init: initializing centroids\n",
            "Init: initializing clusters\n",
            "Starting iterations...\n",
            "Run 1, iteration: 1/100, moves: 0, cost: 208.0\n",
            "Init: initializing centroids\n",
            "Init: initializing clusters\n",
            "Starting iterations...\n",
            "Run 1, iteration: 1/100, moves: 7, cost: 177.0\n",
            "Init: initializing centroids\n",
            "Init: initializing clusters\n",
            "Starting iterations...\n",
            "Run 1, iteration: 1/100, moves: 16, cost: 152.0\n",
            "Run 1, iteration: 2/100, moves: 5, cost: 152.0\n",
            "Init: initializing centroids\n",
            "Init: initializing clusters\n",
            "Starting iterations...\n",
            "Run 1, iteration: 1/100, moves: 12, cost: 155.0\n"
          ],
          "name": "stdout"
        },
        {
          "output_type": "execute_result",
          "data": {
            "text/html": [
              "<div>\n",
              "<style scoped>\n",
              "    .dataframe tbody tr th:only-of-type {\n",
              "        vertical-align: middle;\n",
              "    }\n",
              "\n",
              "    .dataframe tbody tr th {\n",
              "        vertical-align: top;\n",
              "    }\n",
              "\n",
              "    .dataframe thead th {\n",
              "        text-align: right;\n",
              "    }\n",
              "</style>\n",
              "<table border=\"1\" class=\"dataframe\">\n",
              "  <thead>\n",
              "    <tr style=\"text-align: right;\">\n",
              "      <th></th>\n",
              "      <th>Gender</th>\n",
              "      <th>Age</th>\n",
              "      <th>Disease (if any)</th>\n",
              "      <th>Allergic food item (if any)</th>\n",
              "      <th>How is your eating habits?</th>\n",
              "      <th>How many times do you take meal in a day?</th>\n",
              "      <th>Type of Job</th>\n",
              "      <th>How many hours in a day did you usually work?</th>\n",
              "      <th>How often do you exercise?</th>\n",
              "      <th>cluster_predicted</th>\n",
              "    </tr>\n",
              "  </thead>\n",
              "  <tbody>\n",
              "    <tr>\n",
              "      <th>0</th>\n",
              "      <td>0</td>\n",
              "      <td>1</td>\n",
              "      <td>8</td>\n",
              "      <td>5</td>\n",
              "      <td>1</td>\n",
              "      <td>3</td>\n",
              "      <td>1</td>\n",
              "      <td>1</td>\n",
              "      <td>3</td>\n",
              "      <td>1</td>\n",
              "    </tr>\n",
              "    <tr>\n",
              "      <th>1</th>\n",
              "      <td>1</td>\n",
              "      <td>1</td>\n",
              "      <td>8</td>\n",
              "      <td>5</td>\n",
              "      <td>1</td>\n",
              "      <td>2</td>\n",
              "      <td>1</td>\n",
              "      <td>0</td>\n",
              "      <td>0</td>\n",
              "      <td>1</td>\n",
              "    </tr>\n",
              "    <tr>\n",
              "      <th>2</th>\n",
              "      <td>0</td>\n",
              "      <td>0</td>\n",
              "      <td>3</td>\n",
              "      <td>0</td>\n",
              "      <td>0</td>\n",
              "      <td>2</td>\n",
              "      <td>0</td>\n",
              "      <td>1</td>\n",
              "      <td>3</td>\n",
              "      <td>0</td>\n",
              "    </tr>\n",
              "    <tr>\n",
              "      <th>3</th>\n",
              "      <td>1</td>\n",
              "      <td>1</td>\n",
              "      <td>8</td>\n",
              "      <td>5</td>\n",
              "      <td>2</td>\n",
              "      <td>2</td>\n",
              "      <td>1</td>\n",
              "      <td>2</td>\n",
              "      <td>3</td>\n",
              "      <td>1</td>\n",
              "    </tr>\n",
              "    <tr>\n",
              "      <th>4</th>\n",
              "      <td>0</td>\n",
              "      <td>1</td>\n",
              "      <td>0</td>\n",
              "      <td>5</td>\n",
              "      <td>2</td>\n",
              "      <td>1</td>\n",
              "      <td>0</td>\n",
              "      <td>2</td>\n",
              "      <td>2</td>\n",
              "      <td>0</td>\n",
              "    </tr>\n",
              "  </tbody>\n",
              "</table>\n",
              "</div>"
            ],
            "text/plain": [
              "   Gender  Age   ...  How often do you exercise?  cluster_predicted\n",
              "0       0     1  ...                           3                  1\n",
              "1       1     1  ...                           0                  1\n",
              "2       0     0  ...                           3                  0\n",
              "3       1     1  ...                           3                  1\n",
              "4       0     1  ...                           2                  0\n",
              "\n",
              "[5 rows x 10 columns]"
            ]
          },
          "metadata": {
            "tags": []
          },
          "execution_count": 4
        }
      ]
    }
  ]
}